{
 "cells": [
  {
   "cell_type": "code",
   "execution_count": 92,
   "source": [
    "import pandas as pd\n",
    "from scipy.stats import chi2_contingency\n",
    "import numpy as np\n",
    "import matplotlib.pyplot as plt\n",
    "import matplotlib.font_manager as fm\n",
    "import emoji"
   ],
   "outputs": [],
   "metadata": {}
  },
  {
   "cell_type": "markdown",
   "source": [
    "\n",
    "# Premier dataset"
   ],
   "metadata": {}
  },
  {
   "cell_type": "code",
   "execution_count": 93,
   "source": [
    "data1 = pd.read_csv(\"dev-1/dev-1-task-1.csv\", header=None)"
   ],
   "outputs": [],
   "metadata": {}
  },
  {
   "cell_type": "code",
   "execution_count": 94,
   "source": [
    "data1.columns = [\"tweetid\", \"label\", \"text\"] # label : 3 == Promotes/Supports Conspiracy, 2 == Discusses Consparacy, 1 == Non-Conspiracy."
   ],
   "outputs": [],
   "metadata": {}
  },
  {
   "cell_type": "code",
   "execution_count": 95,
   "source": [
    "label_dict={1:\"Non-Conspiracy\", 2:\"Discusses Conspiracy\", 3:\"Promotes/Supports Conspiracy\"}"
   ],
   "outputs": [],
   "metadata": {}
  },
  {
   "cell_type": "code",
   "execution_count": 96,
   "source": [
    "#Basic facts\n",
    "data1.shape"
   ],
   "outputs": [
    {
     "output_type": "execute_result",
     "data": {
      "text/plain": [
       "(500, 3)"
      ]
     },
     "metadata": {},
     "execution_count": 96
    }
   ],
   "metadata": {}
  },
  {
   "cell_type": "code",
   "execution_count": 97,
   "source": [
    "#Labels\n",
    "data1.hist(column=\"label\")"
   ],
   "outputs": [
    {
     "output_type": "execute_result",
     "data": {
      "text/plain": [
       "array([[<AxesSubplot:title={'center':'label'}>]], dtype=object)"
      ]
     },
     "metadata": {},
     "execution_count": 97
    },
    {
     "output_type": "display_data",
     "data": {
      "image/png": "[encoded data removed]",
      "text/plain": [
       "<Figure size 432x288 with 1 Axes>"
      ]
     },
     "metadata": {
      "needs_background": "light"
     }
    }
   ],
   "metadata": {}
  },
  {
   "cell_type": "code",
   "execution_count": 98,
   "source": [
    "#Text\n",
    "for i in range(0,12):\n",
    "    print(data1.text[i])\n",
    "data1.text[1].encode('unicode-escape')"
   ],
   "outputs": [
    {
     "output_type": "stream",
     "name": "stdout",
     "text": [
      "Racist is just a catch phrase for control of populations.  China has shut off travel to and from Wuhan without a health screening. N. Korea shut off all travel to and from Wuhan Australia is now screening all flights from Wuhan  At some point PC is nothing but a mind control word\n",
      "There's a trail that MSS is checking that allowed the designer-bioweapon into China in the first place. In my opinion, CIA introduced SARS targeting China previously. Novel Coronavirus is round 2, another destabilizing mega-weapon in their godless inhuman arsenal! IMPO 🇨🇳🕵️‍♀️\n",
      "Why didn’t any of the “spiritual mediums” predict the #2020 #CoronavirusOutbreak? Not even with “I feel the letters C and V, they will become important”? Well, because there r no valid “mediums”. But if you know somebody who did and is (valid medium) please reply here. 🔮 #Corona\n",
      "sfw?  defend the coincidence of Corona, Wuhan Lab, Gates Foundation, Pirbright Inst., and timing of many deep state implosions in recent weeks.   Dial a distraction in full flex.  Transfer rate and death rate are not flu like.\n",
      "Why isn’t Fonda &amp;her narcissistic , selfish , wealthy buddies in Wuhan China protesting against the communist Chinese gov bioweapons &amp;the egregious negligence of spreading a deadly virus throughout the world , “allegedly!” 😆\n",
      "They've done this for decades but #coronavirus empowers them to grab more people and have a good \"cover\" for it. Status quo for the Sheeple.   And we have ignorant Bernie supporters who won't study WORLD HISTORY &amp; learn from countries who have suffered under Socialism/Communism!\n",
      "We do have Coronavirus in Vietnam but so far only 15 people got it, thanks to the Government's urgent action. It's not OK to discriminate foreigners while their countries are suffer both economically and spiritually because of an unknown Virus. That's just displaying evil.\n",
      "\"Avoiding\" conflict with the US is a strategy for defeat. The only way to defeat the Western Banking Cartel is to take the fight to them otherwise they will wipe you out like with the Covid-19 bioweapon stealth attack.They will do ANYTHING to maintain their control over the world\n",
      "I'd heard of the Wuhan bioweapons labs a few weeks ago, didn't see any reason to pursue further, seemed coincidental. But the PRC shutting down its economy, triggering longterm changes, that doesn't seem a plausible reaction to a new wet-market virus. With lack of transparency...\n",
      "I took a container of lysol wipes and looked at the back and it indeed does say helps with human coronavirus. How can it be a new disease when it's been on lysol containers for a long time? It isnt new,that's how. Someone is using it for biological warfare? Population control?\n",
      "The fact that it has so easily circumvented containment and spread around the world suggests to me that it isn’t a bioweapon. You don’t want a bioweapon that will gradually make its way back to you. But I still think accidental release from the Wuhan lab could be possible.\n",
      "I've been criticizing the WHO for not declaring a pandemic, they're uncredible at this point.  But you wouldn't know that because you're banned.  I don't run the server BTW, I'm just a moderator. We're not paid by Gates, Soros, CCP or the Illuminati; sorry to disappoint you.\n"
     ]
    },
    {
     "output_type": "execute_result",
     "data": {
      "text/plain": [
       "b\"There's a trail that MSS is checking that allowed the designer-bioweapon into China in the first place. In my opinion, CIA introduced SARS targeting China previously. Novel Coronavirus is round 2, another destabilizing mega-weapon in their godless inhuman arsenal! IMPO \\\\U0001f1e8\\\\U0001f1f3\\\\U0001f575\\\\ufe0f\\\\u200d\\\\u2640\\\\ufe0f\""
      ]
     },
     "metadata": {},
     "execution_count": 98
    }
   ],
   "metadata": {}
  },
  {
   "cell_type": "markdown",
   "source": [
    "Notes on this :\n",
    "* there are emojis still in the text : remove at cleaning or take into account ?\n",
    "* how to clean the # : #CoronavirusOutbreak in tweet 3 a word of the sentence, but needs to be split\n",
    "* the capitalisation of some words ?"
   ],
   "metadata": {}
  },
  {
   "cell_type": "markdown",
   "source": [
    "## Corrélation presence d'emoji-conspiracy\n",
    "\n",
    "Question : les emojis sont-ils symptomatiques d'appels a l'emotion et donc peut etre de conspirations.\n",
    "\n",
    "Reponse : nope. Il faudrait peut etre garder les emojis de facon plus sematique (quels emojis pour quel type de tweet ?)"
   ],
   "metadata": {}
  },
  {
   "cell_type": "code",
   "execution_count": 99,
   "source": [
    "# correlation of presence of emojis and conspiracy theories\n",
    "def text_has_emoji(text):\n",
    "    \"\"\" Very crude way of doing it, but the \"emoji\" library wasn't working according to plan\n",
    "    \"\"\"\n",
    "    unicode_text = text.encode('unicode-escape')\n",
    "    if b\"\\\\u\" in unicode_text:\n",
    "        return 1\n",
    "    return 0\n",
    "\n",
    "data1[\"emoji_present\"] = data1.text.apply(lambda x : text_has_emoji(x))\n",
    "contigency_table = pd.crosstab(index=data1['label'], columns=data1['emoji_present'])\n",
    "contigency_table"
   ],
   "outputs": [
    {
     "output_type": "execute_result",
     "data": {
      "text/html": [
       "<div>\n",
       "<style scoped>\n",
       "    .dataframe tbody tr th:only-of-type {\n",
       "        vertical-align: middle;\n",
       "    }\n",
       "\n",
       "    .dataframe tbody tr th {\n",
       "        vertical-align: top;\n",
       "    }\n",
       "\n",
       "    .dataframe thead th {\n",
       "        text-align: right;\n",
       "    }\n",
       "</style>\n",
       "<table border=\"1\" class=\"dataframe\">\n",
       "  <thead>\n",
       "    <tr style=\"text-align: right;\">\n",
       "      <th>emoji_present</th>\n",
       "      <th>0</th>\n",
       "      <th>1</th>\n",
       "    </tr>\n",
       "    <tr>\n",
       "      <th>label</th>\n",
       "      <th></th>\n",
       "      <th></th>\n",
       "    </tr>\n",
       "  </thead>\n",
       "  <tbody>\n",
       "    <tr>\n",
       "      <th>1</th>\n",
       "      <td>225</td>\n",
       "      <td>115</td>\n",
       "    </tr>\n",
       "    <tr>\n",
       "      <th>2</th>\n",
       "      <td>48</td>\n",
       "      <td>28</td>\n",
       "    </tr>\n",
       "    <tr>\n",
       "      <th>3</th>\n",
       "      <td>66</td>\n",
       "      <td>18</td>\n",
       "    </tr>\n",
       "  </tbody>\n",
       "</table>\n",
       "</div>"
      ],
      "text/plain": [
       "emoji_present    0    1\n",
       "label                  \n",
       "1              225  115\n",
       "2               48   28\n",
       "3               66   18"
      ]
     },
     "metadata": {},
     "execution_count": 99
    }
   ],
   "metadata": {}
  },
  {
   "cell_type": "code",
   "execution_count": 100,
   "source": [
    "chi2, p, dof, expected = chi2_contingency(contigency_table, correction=False, lambda_=None)\n",
    "print(chi2, p, dof, expected)\n",
    "#Test of independance of the distributions\n",
    "# H0 :  the distributions are dependent\n",
    "\n",
    "#returns \n",
    "# - chi2     The test statistic.\n",
    "# - p        The p-value of the test\n",
    "# - dof      Degrees of freedom\n",
    "# - expected The expected frequencies, based on the marginal sums of the table.\n",
    "\n",
    "# The p-value is >0.05, therefore we reject H0 : presence of emoji and label are independent."
   ],
   "outputs": [
    {
     "output_type": "stream",
     "name": "stdout",
     "text": [
      "5.624833518186845 0.06005966710837437 2 [[230.52  109.48 ]\n",
      " [ 51.528  24.472]\n",
      " [ 56.952  27.048]]\n"
     ]
    }
   ],
   "metadata": {}
  },
  {
   "cell_type": "code",
   "execution_count": 101,
   "source": [
    "# V de Cramer (mesure l'association entre les variables, meilleur que stat du chi2 parce stable en rapport de la taille de la table)\n",
    "n = contigency_table.sum().sum()\n",
    "phi2 = chi2/n\n",
    "r,k = contigency_table.shape\n",
    "phi2corr = max(0, phi2 - ((k-1)*(r-1))/(n-1))    \n",
    "rcorr = r - ((r-1)**2)/(n-1)\n",
    "kcorr = k - ((k-1)**2)/(n-1)\n",
    "V = np.sqrt(phi2corr / min( (kcorr-1), (rcorr-1)))\n",
    "print(V)\n",
    "\n",
    "#rappel : Plus V est proche de zéro, plus il y a indépendance entre les deux variables étudiées. Il vaut 1 en cas de complète dépendance\n",
    "\n",
    "#Donc c'est cramé (haha) pour les dependeances emoji-label"
   ],
   "outputs": [
    {
     "output_type": "stream",
     "name": "stdout",
     "text": [
      "0.08518328751691673\n"
     ]
    }
   ],
   "metadata": {}
  },
  {
   "cell_type": "markdown",
   "source": [
    "## Relation type d'emojis - type de conspiration"
   ],
   "metadata": {}
  },
  {
   "cell_type": "code",
   "execution_count": 102,
   "source": [
    "import emoji\n",
    "import regex\n",
    "\n",
    "def split_count(text):\n",
    "\n",
    "    emoji_list = []\n",
    "    data = regex.findall(r'\\X', text)\n",
    "    for word in data:\n",
    "        if any(char in emoji.UNICODE_EMOJI['en'] for char in word):\n",
    "            emoji_list.append(word)\n",
    "    \n",
    "    return emoji_list"
   ],
   "outputs": [],
   "metadata": {}
  },
  {
   "cell_type": "code",
   "execution_count": 103,
   "source": [
    "data1[\"emojis\"] = data1.text.apply(lambda x : split_count(x))\n",
    "data1.head(20)\n",
    "list_all_emojis = list(set([emoji for sublist in data1[\"emojis\"].tolist() for emoji in sublist]))"
   ],
   "outputs": [],
   "metadata": {}
  },
  {
   "cell_type": "code",
   "execution_count": 104,
   "source": [
    "#Maintenant on compte : quel emoji apparait dans quel type de tweets ?\n",
    "repartition_emojis={1:{}, 2:{}, 3:{}}\n",
    "\n",
    "for row in data1.itertuples():\n",
    "    label = row.label\n",
    "    if len(row.emojis)>0:\n",
    "        for emoji in row.emojis:\n",
    "            if emoji in repartition_emojis[label].keys():\n",
    "                repartition_emojis[label][emoji]+=1\n",
    "            else :\n",
    "                repartition_emojis[label][emoji]=1"
   ],
   "outputs": [],
   "metadata": {}
  },
  {
   "cell_type": "code",
   "execution_count": 105,
   "source": [
    "for i in range(1,4):\n",
    "    print(\"For label :\", label_dict[i])\n",
    "    print([(k,v) for k, v in sorted(repartition_emojis[i].items(), key=lambda item: item[1], reverse=True)][0:10])"
   ],
   "outputs": [
    {
     "output_type": "stream",
     "name": "stdout",
     "text": [
      "For label : Non-Conspiracy\n",
      "[('😂', 11), ('✅', 5), ('\\U0001f92c', 3), ('😉', 2), ('😀', 2), ('⬇️', 2), ('😃', 2), ('😇', 2), ('🤦\\u200d♂️', 2), ('😅', 2)]\n",
      "For label : Discusses Conspiracy\n",
      "[('🤣', 5), ('🙄', 3), ('🤦🏻\\u200d♀️', 1), ('😈', 1), ('😤', 1), ('👏', 1), ('😕', 1), ('😠', 1), ('™', 1)]\n",
      "For label : Promotes/Supports Conspiracy\n",
      "[('\\U0001f92a', 2), ('😳', 2), ('🙄', 2), ('💔', 1), ('😰', 1), ('🤔', 1), ('🤦\\u200d♀️', 1), ('😤', 1), ('🙏', 1), ('❤️', 1)]\n"
     ]
    }
   ],
   "metadata": {}
  },
  {
   "cell_type": "markdown",
   "source": [
    "\\U0001f92a : GRINNING FACE WITH ONE LARGE AND ONE SMALL EYE (http://www.iemoji.com/view/emoji/2488/smileys-people/crazy-face)\n",
    "\\U0001f92c : SERIOUS FACE WITH SYMBOLS COVERING MOUTH (https://www.fileformat.info/info/unicode/char/1f92c/index.htm)\n",
    "\n",
    "Notes: le face palm est courant partout\n",
    "\n",
    "Pas assez d'emojis pour voir une influence sur la quantite. Piste a abandonner"
   ],
   "metadata": {}
  },
  {
   "cell_type": "markdown",
   "source": [
    "## Correlation majuscules - conspiration"
   ],
   "metadata": {}
  },
  {
   "cell_type": "code",
   "execution_count": 106,
   "source": [
    "list_covid = [\"COVID\", \"COVID-19\",\"COVID19\",\"WHO\", \"CDC\", \"CIA\", \"SARS\", \"BTW\"]\n",
    "def has_all_caps_word(text):\n",
    "    words = text.split(\" \")\n",
    "    for word in words :\n",
    "        if ((word.isupper())&(word not in list_covid)&(len(word)>2)):\n",
    "            return 1\n",
    "    return 0\n",
    "\n",
    "data1[\"has_all_caps\"] = data1.text.apply(lambda x : has_all_caps_word(x))"
   ],
   "outputs": [],
   "metadata": {}
  },
  {
   "cell_type": "code",
   "execution_count": 107,
   "source": [
    "#number of texts with all caps\n",
    "len(data1[data1.has_all_caps==1].text.tolist())\n"
   ],
   "outputs": [
    {
     "output_type": "execute_result",
     "data": {
      "text/plain": [
       "181"
      ]
     },
     "metadata": {},
     "execution_count": 107
    }
   ],
   "metadata": {}
  },
  {
   "cell_type": "code",
   "execution_count": 108,
   "source": [
    "#contigency table, le retour\n",
    "contigency_table = pd.crosstab(index=data1['label'], columns=data1['has_all_caps'])\n",
    "contigency_table"
   ],
   "outputs": [
    {
     "output_type": "execute_result",
     "data": {
      "text/html": [
       "<div>\n",
       "<style scoped>\n",
       "    .dataframe tbody tr th:only-of-type {\n",
       "        vertical-align: middle;\n",
       "    }\n",
       "\n",
       "    .dataframe tbody tr th {\n",
       "        vertical-align: top;\n",
       "    }\n",
       "\n",
       "    .dataframe thead th {\n",
       "        text-align: right;\n",
       "    }\n",
       "</style>\n",
       "<table border=\"1\" class=\"dataframe\">\n",
       "  <thead>\n",
       "    <tr style=\"text-align: right;\">\n",
       "      <th>has_all_caps</th>\n",
       "      <th>0</th>\n",
       "      <th>1</th>\n",
       "    </tr>\n",
       "    <tr>\n",
       "      <th>label</th>\n",
       "      <th></th>\n",
       "      <th></th>\n",
       "    </tr>\n",
       "  </thead>\n",
       "  <tbody>\n",
       "    <tr>\n",
       "      <th>1</th>\n",
       "      <td>220</td>\n",
       "      <td>120</td>\n",
       "    </tr>\n",
       "    <tr>\n",
       "      <th>2</th>\n",
       "      <td>52</td>\n",
       "      <td>24</td>\n",
       "    </tr>\n",
       "    <tr>\n",
       "      <th>3</th>\n",
       "      <td>47</td>\n",
       "      <td>37</td>\n",
       "    </tr>\n",
       "  </tbody>\n",
       "</table>\n",
       "</div>"
      ],
      "text/plain": [
       "has_all_caps    0    1\n",
       "label                 \n",
       "1             220  120\n",
       "2              52   24\n",
       "3              47   37"
      ]
     },
     "metadata": {},
     "execution_count": 108
    }
   ],
   "metadata": {}
  },
  {
   "cell_type": "code",
   "execution_count": 109,
   "source": [
    "chi2, p, dof, expected = chi2_contingency(contigency_table, correction=False, lambda_=None)\n",
    "print(chi2, p, dof, expected)\n",
    "n = contigency_table.sum().sum()\n",
    "phi2 = chi2/n\n",
    "r,k = contigency_table.shape\n",
    "phi2corr = max(0, phi2 - ((k-1)*(r-1))/(n-1))    \n",
    "rcorr = r - ((r-1)**2)/(n-1)\n",
    "kcorr = k - ((k-1)**2)/(n-1)\n",
    "V = np.sqrt(phi2corr / min( (kcorr-1), (rcorr-1)))\n",
    "print(V)"
   ],
   "outputs": [
    {
     "output_type": "stream",
     "name": "stdout",
     "text": [
      "3.0633869330551633 0.21616928172980407 2 [[216.92  123.08 ]\n",
      " [ 48.488  27.512]\n",
      " [ 53.592  30.408]]\n",
      "0.04607615834517353\n"
     ]
    }
   ],
   "metadata": {}
  },
  {
   "cell_type": "code",
   "execution_count": 110,
   "source": [
    "def num_words_all_caps(text):\n",
    "    num=0\n",
    "    words = text.split(\" \")\n",
    "    for word in words :\n",
    "        if (word.isupper()):\n",
    "            num+=1\n",
    "    return num\n",
    "\n",
    "data1[\"num_all_caps\"] = data1.text.apply(lambda x : num_words_all_caps(x))"
   ],
   "outputs": [],
   "metadata": {}
  },
  {
   "cell_type": "code",
   "execution_count": 111,
   "source": [
    "import statsmodels.api as sm\n",
    "\n",
    "X = data1.num_all_caps\n",
    "y = data1.label\n",
    "\n",
    "X2 = sm.add_constant(X)\n",
    "est = sm.OLS(y, X2)\n",
    "est2 = est.fit()\n",
    "print(est2.summary())\n",
    "\n",
    "#H0 null hypothesis is that the slope is zero.\n",
    "#P>|t| is the p-value. It is superior to 0.05, so we cannot reject H0"
   ],
   "outputs": [
    {
     "output_type": "stream",
     "name": "stdout",
     "text": [
      "                            OLS Regression Results                            \n",
      "==============================================================================\n",
      "Dep. Variable:                  label   R-squared:                       0.006\n",
      "Model:                            OLS   Adj. R-squared:                  0.004\n",
      "Method:                 Least Squares   F-statistic:                     3.250\n",
      "Date:                Wed, 29 Sep 2021   Prob (F-statistic):             0.0720\n",
      "Time:                        17:17:45   Log-Likelihood:                -574.17\n",
      "No. Observations:                 500   AIC:                             1152.\n",
      "Df Residuals:                     498   BIC:                             1161.\n",
      "Df Model:                           1                                         \n",
      "Covariance Type:            nonrobust                                         \n",
      "================================================================================\n",
      "                   coef    std err          t      P>|t|      [0.025      0.975]\n",
      "--------------------------------------------------------------------------------\n",
      "const            1.4596      0.038     38.772      0.000       1.386       1.534\n",
      "num_all_caps     0.0129      0.007      1.803      0.072      -0.001       0.027\n",
      "==============================================================================\n",
      "Omnibus:                       78.294   Durbin-Watson:                   2.020\n",
      "Prob(Omnibus):                  0.000   Jarque-Bera (JB):              113.631\n",
      "Skew:                           1.160   Prob(JB):                     2.12e-25\n",
      "Kurtosis:                       2.724   Cond. No.                         5.81\n",
      "==============================================================================\n",
      "\n",
      "Notes:\n",
      "[1] Standard Errors assume that the covariance matrix of the errors is correctly specified.\n"
     ]
    }
   ],
   "metadata": {}
  },
  {
   "cell_type": "markdown",
   "source": [
    "Les mots en all caps ne sont pas correles au label, que ce soit la presence de all caps ou leur nombre. \n",
    "On peut donc tout mettre en lowercase sans problemes.\n",
    "Note: d'avoir lu les tweet en diagonale, les all caps sont souvent des gens en colere. Soit des conspirationistes, soit des gens opposes aux conspirations qui sont exasperes."
   ],
   "metadata": {}
  },
  {
   "cell_type": "markdown",
   "source": [
    "# Deuxieme dataset"
   ],
   "metadata": {}
  },
  {
   "cell_type": "code",
   "execution_count": 112,
   "source": [
    "data2 = pd.read_csv(\"dev-1/dev-1-task-2.csv\", header=None)"
   ],
   "outputs": [],
   "metadata": {}
  },
  {
   "cell_type": "code",
   "execution_count": 114,
   "source": [
    "\"\"\"\n",
    "TweetID - a FakeNews task internal tweet ID, do not match with the original tweet ID.\n",
    "Binary Flag for Suppressed cures - a flag indicating that the correcponding conspiracy theory is mentioned in the papticular tweet, 1 == mentioned, 0 == not mentioned (the same for the following Binary Flag fields).\n",
    "Binary Flag for Behaviour and Mind Control - a flag indicating that the correcponding conspiracy theory is mentioned in the rapticular tweet.\n",
    "Binary Flag for Antivax - a flag indicating that the correcponding conspiracy theory is mentioned in the rapticular tweet.\n",
    "Binary Flag for Fake virus* - a flag indicating that the correcponding conspiracy theory is mentioned in the rapticular tweet.\n",
    "Binary Flag for Intentional Pandemic - a flag indicating that the correcponding conspiracy theory is mentioned in the rapticular tweet.\n",
    "Binary Flag for Harmful Radiation/ Influence - a flag indicating that the correcponding conspiracy theory is mentioned in the rapticular tweet.\n",
    "Binary Flag for Population reduction - a flag indicating that the correcponding conspiracy theory is mentioned in the rapticular tweet.\n",
    "Binary Flag for New World Order - a flag indicating that the correcponding conspiracy theory is mentioned in the rapticular tweet.\n",
    "Binary Flag for Satanism - a flag indicating that the correcponding conspiracy theory is mentioned in the rapticular tweet.\n",
    "Tweet Text - full tweet text block. Note that this field ends with the end of the CSV file line and it can contain extra commas that are not separators.\n",
    "\"\"\"\n",
    "theories = ['supressed_cures', 'behaviour_mind_control', 'antivax', 'fake_virus', \n",
    "                'intentional_pandemic', 'harmful_radiation', 'population_reduction', 'new_world_order', 'satanism']\n",
    "                \n",
    "data2.columns = ['tweetid', 'supressed_cures', 'behaviour_mind_control', 'antivax', 'fake_virus', \n",
    "                'intentional_pandemic', 'harmful_radiation', 'population_reduction', 'new_world_order', 'satanism', 'text']\n"
   ],
   "outputs": [],
   "metadata": {}
  },
  {
   "cell_type": "code",
   "execution_count": 147,
   "source": [
    "#Basics\n",
    "print(data2.shape)\n",
    "\n",
    "#Does all tweet relate to a theory ?\n",
    "data2_no_theory = data2[~data2[theories].any(axis='columns')]\n",
    "print(data2_no_theory.shape)\n",
    "\n",
    "#Does a tweet have more than one theory in it ?\n",
    "temp_col = data2[theories].sum(axis=1)\n",
    "data2_more_than_one_theory = data2[temp_col>1]\n",
    "print(data2_more_than_one_theory.shape)\n",
    "\n",
    "#Curiosite morbide : que racontent les doubles conspirationistes ?\n",
    "#for item in data2_more_than_one_theory.text:\n",
    "    #print(item)\n"
   ],
   "outputs": [
    {
     "output_type": "stream",
     "name": "stdout",
     "text": [
      "(500, 11)\n",
      "(340, 11)\n",
      "(41, 11)\n"
     ]
    }
   ],
   "metadata": {}
  },
  {
   "cell_type": "markdown",
   "source": [
    "Notes : on a donc 340 tweets sur 500 qui n'ont aucune theorie du complot dedans, soit 68%\n",
    "En plus, 41 sont des doubles conspirations, soit 8.2%. O joie\n",
    "\n",
    "Attention ! Les doubles conspirations sont souvent des tweets de gens qui se moquent des complots / rectifient des theories du complot, et donc en 1 tweet incluent beaucoup de theories. Ce ne sont pas tous des gens qui croient a la 5G satanique cree par Bill Gates pour controler la population. Il y en a, mais pas tous."
   ],
   "metadata": {}
  },
  {
   "cell_type": "code",
   "execution_count": 152,
   "source": [
    "#Quelles sont les thories les plus populaires ?\n",
    "number_theories = {}\n",
    "for theory in theories :\n",
    "    number_theories[theory] = data2[theory].sum()\n",
    "\n",
    "[print(k, \":\", v) for k, v in sorted(number_theories.items(), key=lambda item: item[1], reverse=True)]"
   ],
   "outputs": [
    {
     "output_type": "stream",
     "name": "stdout",
     "text": [
      "fake_virus : 47\n",
      "intentional_pandemic : 39\n",
      "antivax : 30\n",
      "behaviour_mind_control : 24\n",
      "population_reduction : 20\n",
      "new_world_order : 19\n",
      "harmful_radiation : 15\n",
      "satanism : 15\n",
      "supressed_cures : 6\n"
     ]
    },
    {
     "output_type": "execute_result",
     "data": {
      "text/plain": [
       "[None, None, None, None, None, None, None, None, None]"
      ]
     },
     "metadata": {},
     "execution_count": 152
    }
   ],
   "metadata": {}
  },
  {
   "cell_type": "code",
   "execution_count": null,
   "source": [],
   "outputs": [],
   "metadata": {}
  }
 ],
 "metadata": {
  "orig_nbformat": 4,
  "language_info": {
   "name": "python",
   "version": "3.6.8",
   "mimetype": "text/x-python",
   "codemirror_mode": {
    "name": "ipython",
    "version": 3
   },
   "pygments_lexer": "ipython3",
   "nbconvert_exporter": "python",
   "file_extension": ".py"
  },
  "kernelspec": {
   "name": "python3",
   "display_name": "Python 3.6.8 64-bit ('Codes-0wEruvRJ': pipenv)"
  },
  "interpreter": {
   "hash": "493c5a77dda695637c87ed8f7d3d89efc503bacd8c8c1fda55d2298e74fd0542"
  }
 },
 "nbformat": 4,
 "nbformat_minor": 2
}